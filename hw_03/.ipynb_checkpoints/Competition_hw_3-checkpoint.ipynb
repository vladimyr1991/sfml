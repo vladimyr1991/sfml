{
 "cells": [
  {
   "cell_type": "markdown",
   "metadata": {},
   "source": [
    "## TEAM 4 \n",
    "- @mnestr \n",
    "- @Jurix1c \n",
    "- @Ivan S.\n",
    "- @Vladimir Moroz"
   ]
  },
  {
   "cell_type": "code",
   "execution_count": 1,
   "metadata": {},
   "outputs": [],
   "source": [
    "import pandas as pd\n",
    "import numpy as np\n",
    "import matplotlib.pyplot as plt\n",
    "%matplotlib inline"
   ]
  },
  {
   "cell_type": "markdown",
   "metadata": {},
   "source": [
    "### Посмотрим бенчмарк"
   ]
  },
  {
   "cell_type": "code",
   "execution_count": 2,
   "metadata": {},
   "outputs": [],
   "source": [
    "samp_sub = pd.read_csv('sample_submission.csv')"
   ]
  },
  {
   "cell_type": "code",
   "execution_count": 3,
   "metadata": {},
   "outputs": [
    {
     "data": {
      "text/html": [
       "<div>\n",
       "<style scoped>\n",
       "    .dataframe tbody tr th:only-of-type {\n",
       "        vertical-align: middle;\n",
       "    }\n",
       "\n",
       "    .dataframe tbody tr th {\n",
       "        vertical-align: top;\n",
       "    }\n",
       "\n",
       "    .dataframe thead th {\n",
       "        text-align: right;\n",
       "    }\n",
       "</style>\n",
       "<table border=\"1\" class=\"dataframe\">\n",
       "  <thead>\n",
       "    <tr style=\"text-align: right;\">\n",
       "      <th></th>\n",
       "      <th>_id</th>\n",
       "      <th>target</th>\n",
       "    </tr>\n",
       "  </thead>\n",
       "  <tbody>\n",
       "    <tr>\n",
       "      <th>0</th>\n",
       "      <td>66810d8e6bf2b41c880a7bc6c8a1e295</td>\n",
       "      <td>0</td>\n",
       "    </tr>\n",
       "    <tr>\n",
       "      <th>1</th>\n",
       "      <td>ccac3879652b08cb8b44c1920fd93afa</td>\n",
       "      <td>0</td>\n",
       "    </tr>\n",
       "    <tr>\n",
       "      <th>2</th>\n",
       "      <td>fcccab4d7a76f70647f015f2c84c2af8</td>\n",
       "      <td>0</td>\n",
       "    </tr>\n",
       "    <tr>\n",
       "      <th>3</th>\n",
       "      <td>ed8399278c30678dab739045fa12b440</td>\n",
       "      <td>0</td>\n",
       "    </tr>\n",
       "    <tr>\n",
       "      <th>4</th>\n",
       "      <td>1d4d62ac5cabcb48bac7112813f290cb</td>\n",
       "      <td>0</td>\n",
       "    </tr>\n",
       "  </tbody>\n",
       "</table>\n",
       "</div>"
      ],
      "text/plain": [
       "                                _id  target\n",
       "0  66810d8e6bf2b41c880a7bc6c8a1e295       0\n",
       "1  ccac3879652b08cb8b44c1920fd93afa       0\n",
       "2  fcccab4d7a76f70647f015f2c84c2af8       0\n",
       "3  ed8399278c30678dab739045fa12b440       0\n",
       "4  1d4d62ac5cabcb48bac7112813f290cb       0"
      ]
     },
     "execution_count": 3,
     "metadata": {},
     "output_type": "execute_result"
    }
   ],
   "source": [
    "samp_sub.head()"
   ]
  },
  {
   "cell_type": "code",
   "execution_count": 4,
   "metadata": {},
   "outputs": [
    {
     "data": {
      "text/plain": [
       "16476"
      ]
     },
     "execution_count": 4,
     "metadata": {},
     "output_type": "execute_result"
    }
   ],
   "source": [
    "#Количество строк в бенчмарке\n",
    "samp_sub.shape[0]"
   ]
  },
  {
   "cell_type": "markdown",
   "metadata": {},
   "source": [
    "### Посмотрим Train - Test данные"
   ]
  },
  {
   "cell_type": "markdown",
   "metadata": {},
   "source": [
    "### Описание данных\n",
    "#### Метрика ROC-AUC\n",
    "\n",
    "- **_id** - идентификатор человека\n",
    "- **age** - возраст\n",
    "- **job** - тип работы (\"admin.\",\"blue-collar\",\"entrepreneur\",\"housemaid\",\"management\",\"retired\",\"self-employed\",\"services\",\"student\",\"technician\",\"unemployed\",\"unknown\")\n",
    "- **marital** - семейное положение (\"divorced\" (разведенный и овдовевший),\"married\",\"single\",\"unknown\")\n",
    "- **education** - уровень образования (\"basic.4y\",\"basic.6y\",\"basic.9y\",\"high.school\",\"illiterate\",\"professional.course\",\"university.degree\",\"unknown\")\n",
    "- **default** - есть ли дефолт по кредиту (\"no\",\"yes\",\"unknown\")\n",
    "- **housing** - есть ли кредит на жилье (\"no\",\"yes\",\"unknown\")\n",
    "- **loan** - есть ли персональный кредит (\"no\",\"yes\",\"unknown\")\n",
    "- **contact** - контактный тип связи (\"cellular\",\"telephone\")\n",
    "- **month** - последний контактный месяц года (\"jan\", \"feb\", \"mar\", ..., \"nov\", \"dec\")\n",
    "- **day_of_week**- последний контактный день недели (\"mon\",\"tue\",\"wed\",\"thu\",\"fri\")\n",
    "- **duration** - длительность последнего контакта в секундах. (Важное замечание: этот атрибут сильно влияет на таргет (например, если длительность - 0 сек., то таргет - 0). Тем не менее, продолжительность не известна до выполнения вызова.\n",
    "- **campaign** - количество контактов, выполненных для этого клиента в рамках текущей маркетинговой кампании (включая последний контакт)\n",
    "- **pdays** - количество дней прошедших последнего контакта с клиентом с предыдущей маркетинговой кампании (999 означает, что ранее с клиентом не контактировали)\n",
    "- **previous** - количество контактов, выполненных до текущей маркетинговой кампании для этого клиента\n",
    "- **poutcome** - результат предыдущей маркетинговой кампании (\"failure\",\"nonexistent\",\"success\")\n",
    "\n",
    "#### Ниже приведены показатели окружающей среды и банка\n",
    "\n",
    "- **emp.var.rate** - изменение уровня занятости (квартальный показатель)\n",
    "- **cons.price.idx** - индекс потребительских цен (ежемесячный показатель)\n",
    "- **cons.conf.idx** - индекс доверия потребителя (ежемесячный показатель)\n",
    "- **euribor3m** - курс Euribor (ежедневный показатель)\n",
    "- **nr.employed** - количество сотрудников (квартальный показатель)\n",
    "- **target** - целевая переменная (таргет) - согласился ли клиент на вклад (депозит)"
   ]
  },
  {
   "cell_type": "code",
   "execution_count": 5,
   "metadata": {},
   "outputs": [],
   "source": [
    "train =  pd.read_csv('train.csv')\n",
    "test = pd.read_csv('test.csv')"
   ]
  },
  {
   "cell_type": "code",
   "execution_count": 6,
   "metadata": {},
   "outputs": [
    {
     "data": {
      "text/plain": [
       "(24712, 22)"
      ]
     },
     "execution_count": 6,
     "metadata": {},
     "output_type": "execute_result"
    }
   ],
   "source": [
    "train.shape"
   ]
  },
  {
   "cell_type": "code",
   "execution_count": 7,
   "metadata": {},
   "outputs": [
    {
     "data": {
      "text/plain": [
       "(16476, 21)"
      ]
     },
     "execution_count": 7,
     "metadata": {},
     "output_type": "execute_result"
    }
   ],
   "source": [
    "test.shape"
   ]
  },
  {
   "cell_type": "code",
   "execution_count": 8,
   "metadata": {},
   "outputs": [
    {
     "name": "stdout",
     "output_type": "stream",
     "text": [
      "Index(['_id', 'age', 'job', 'marital', 'education', 'default', 'housing',\n",
      "       'loan', 'contact', 'month', 'day_of_week', 'duration', 'campaign',\n",
      "       'pdays', 'previous', 'poutcome', 'emp.var.rate', 'cons.price.idx',\n",
      "       'cons.conf.idx', 'euribor3m', 'nr.employed', 'target'],\n",
      "      dtype='object')\n"
     ]
    }
   ],
   "source": [
    "print(train.columns)"
   ]
  },
  {
   "cell_type": "code",
   "execution_count": 9,
   "metadata": {},
   "outputs": [
    {
     "data": {
      "text/plain": [
       "Index(['_id', 'age', 'job', 'marital', 'education', 'default', 'housing',\n",
       "       'loan', 'contact', 'month', 'day_of_week', 'duration', 'campaign',\n",
       "       'pdays', 'previous', 'poutcome', 'emp.var.rate', 'cons.price.idx',\n",
       "       'cons.conf.idx', 'euribor3m', 'nr.employed'],\n",
       "      dtype='object')"
      ]
     },
     "execution_count": 9,
     "metadata": {},
     "output_type": "execute_result"
    }
   ],
   "source": [
    "test.columns"
   ]
  },
  {
   "cell_type": "markdown",
   "metadata": {},
   "source": [
    "### Исследование и подготовка данных"
   ]
  },
  {
   "cell_type": "markdown",
   "metadata": {},
   "source": [
    "#### Объеденим данные"
   ]
  },
  {
   "cell_type": "code",
   "execution_count": 10,
   "metadata": {},
   "outputs": [],
   "source": [
    "#ответы для трейн данных переместим в переменную\n",
    "y_train = train.iloc[:,-1]"
   ]
  },
  {
   "cell_type": "code",
   "execution_count": 11,
   "metadata": {},
   "outputs": [],
   "source": [
    "#для простого разделения воспользуемся метками ( на примере прошлого занятия)\n",
    "train.loc[:, 'sample'] = 'train'\n",
    "test.loc[:, 'sample'] = 'test'"
   ]
  },
  {
   "cell_type": "code",
   "execution_count": 12,
   "metadata": {},
   "outputs": [],
   "source": [
    "#для корректного слияния данных  нужно убрать колонку таргет\n",
    "data = train.drop('target',axis = 1).append(test).reset_index(drop=True)"
   ]
  },
  {
   "cell_type": "code",
   "execution_count": 13,
   "metadata": {},
   "outputs": [
    {
     "name": "stdout",
     "output_type": "stream",
     "text": [
      "<class 'pandas.core.frame.DataFrame'>\n",
      "RangeIndex: 41188 entries, 0 to 41187\n",
      "Data columns (total 22 columns):\n",
      "_id               41188 non-null object\n",
      "age               41188 non-null int64\n",
      "job               41188 non-null object\n",
      "marital           41188 non-null object\n",
      "education         41188 non-null object\n",
      "default           41188 non-null object\n",
      "housing           41188 non-null object\n",
      "loan              41188 non-null object\n",
      "contact           41188 non-null object\n",
      "month             41188 non-null object\n",
      "day_of_week       41188 non-null object\n",
      "duration          41188 non-null int64\n",
      "campaign          41188 non-null int64\n",
      "pdays             41188 non-null int64\n",
      "previous          41188 non-null int64\n",
      "poutcome          41188 non-null object\n",
      "emp.var.rate      41188 non-null float64\n",
      "cons.price.idx    41188 non-null float64\n",
      "cons.conf.idx     41188 non-null float64\n",
      "euribor3m         41188 non-null float64\n",
      "nr.employed       41188 non-null float64\n",
      "sample            41188 non-null object\n",
      "dtypes: float64(5), int64(5), object(12)\n",
      "memory usage: 6.9+ MB\n"
     ]
    }
   ],
   "source": [
    "data.info()"
   ]
  },
  {
   "cell_type": "code",
   "execution_count": 14,
   "metadata": {},
   "outputs": [
    {
     "data": {
      "text/plain": [
       "\"num_lst = []\\nfor i in data.columns: # перебираем все столбцы\\n    if str(data[i].dtype) == 'int64' or str(data[i].dtype) == 'float64':\\n        num_lst.append(i)\""
      ]
     },
     "execution_count": 14,
     "metadata": {},
     "output_type": "execute_result"
    }
   ],
   "source": [
    "\"\"\"num_lst = []\n",
    "for i in data.columns: # перебираем все столбцы\n",
    "    if str(data[i].dtype) == 'int64' or str(data[i].dtype) == 'float64':\n",
    "        num_lst.append(i)\"\"\""
   ]
  },
  {
   "cell_type": "code",
   "execution_count": 15,
   "metadata": {},
   "outputs": [
    {
     "data": {
      "text/plain": [
       "\"for x in num_lst:\\n    data[x] = data[x].astype('object')\""
      ]
     },
     "execution_count": 15,
     "metadata": {},
     "output_type": "execute_result"
    }
   ],
   "source": [
    "\"\"\"for x in num_lst:\n",
    "    data[x] = data[x].astype('object')\"\"\""
   ]
  },
  {
   "cell_type": "code",
   "execution_count": 16,
   "metadata": {},
   "outputs": [
    {
     "data": {
      "text/plain": [
       "\"#Нормализуем значение pdays и duration\\nfor i in ['previous']:\\n    mn = data[i].min()\\n    mx = data[i].max()\\n    data[i] = data[i].apply(lambda x: (x - mn)/(mx - mn))\""
      ]
     },
     "execution_count": 16,
     "metadata": {},
     "output_type": "execute_result"
    }
   ],
   "source": [
    "\"\"\"#Нормализуем значение pdays и duration\n",
    "for i in ['previous']:\n",
    "    mn = data[i].min()\n",
    "    mx = data[i].max()\n",
    "    data[i] = data[i].apply(lambda x: (x - mn)/(mx - mn))\"\"\""
   ]
  },
  {
   "cell_type": "code",
   "execution_count": 17,
   "metadata": {},
   "outputs": [],
   "source": [
    "#выполним трансформацию признаков из obj в числовые\n",
    "#создадим список признаков\n",
    "obj_lst = []\n",
    "for i in data.columns: # перебираем все столбцы\n",
    "    if str(data[i].dtype) == 'object':\n",
    "        obj_lst.append(i)"
   ]
  },
  {
   "cell_type": "code",
   "execution_count": 18,
   "metadata": {},
   "outputs": [
    {
     "data": {
      "text/plain": [
       "['_id',\n",
       " 'job',\n",
       " 'marital',\n",
       " 'education',\n",
       " 'default',\n",
       " 'housing',\n",
       " 'loan',\n",
       " 'contact',\n",
       " 'month',\n",
       " 'day_of_week',\n",
       " 'poutcome',\n",
       " 'sample']"
      ]
     },
     "execution_count": 18,
     "metadata": {},
     "output_type": "execute_result"
    }
   ],
   "source": [
    "obj_lst"
   ]
  },
  {
   "cell_type": "code",
   "execution_count": 19,
   "metadata": {},
   "outputs": [],
   "source": [
    "#преобразуем категориальные признаки в числовые исключив _id и sample данные\n",
    "df = pd.get_dummies(data, columns = obj_lst[1:-1])"
   ]
  },
  {
   "cell_type": "code",
   "execution_count": 20,
   "metadata": {},
   "outputs": [
    {
     "data": {
      "text/plain": [
       "(41188, 65)"
      ]
     },
     "execution_count": 20,
     "metadata": {},
     "output_type": "execute_result"
    }
   ],
   "source": [
    "#получилось 65 признаков\n",
    "df.shape"
   ]
  },
  {
   "cell_type": "code",
   "execution_count": 21,
   "metadata": {},
   "outputs": [],
   "source": [
    "#разделим данные\n",
    "df_train_preproc = df[df['sample'] == 'train'].drop(['_id', 'sample'],axis = 1)\n",
    "df_test_preproc = df[df['sample'] == 'test'].drop(['_id', 'sample'],axis = 1)"
   ]
  },
  {
   "cell_type": "code",
   "execution_count": 22,
   "metadata": {},
   "outputs": [
    {
     "data": {
      "text/plain": [
       "(24712, 63)"
      ]
     },
     "execution_count": 22,
     "metadata": {},
     "output_type": "execute_result"
    }
   ],
   "source": [
    "#Исследуем данные и убедимся что все данные числовые\n",
    "df_train_preproc.shape"
   ]
  },
  {
   "cell_type": "markdown",
   "metadata": {},
   "source": [
    "### Начнём тренировать модели"
   ]
  },
  {
   "cell_type": "code",
   "execution_count": 23,
   "metadata": {},
   "outputs": [],
   "source": [
    "from sklearn.model_selection import train_test_split\n",
    "X, X_test, y, y_test = train_test_split(df_train_preproc, y_train, test_size = 0.3, random_state = 42)"
   ]
  },
  {
   "cell_type": "code",
   "execution_count": 24,
   "metadata": {},
   "outputs": [],
   "source": [
    "from sklearn.tree import DecisionTreeClassifier\n",
    "from sklearn.neighbors import KNeighborsClassifier\n",
    "from sklearn.linear_model import LogisticRegression"
   ]
  },
  {
   "cell_type": "code",
   "execution_count": 25,
   "metadata": {},
   "outputs": [],
   "source": [
    "tree = DecisionTreeClassifier(random_state=42)\n",
    "reg = LogisticRegression(random_state=42)\n",
    "knn = KNeighborsClassifier()"
   ]
  },
  {
   "cell_type": "code",
   "execution_count": 26,
   "metadata": {},
   "outputs": [],
   "source": [
    "knn.fit(X,y)\n",
    "knn_predict = knn.predict_proba(X_test)"
   ]
  },
  {
   "cell_type": "code",
   "execution_count": 27,
   "metadata": {},
   "outputs": [],
   "source": [
    "tree.fit(X,y)\n",
    "tr_predict = tree.predict_proba(X_test)"
   ]
  },
  {
   "cell_type": "code",
   "execution_count": 28,
   "metadata": {},
   "outputs": [],
   "source": [
    "reg.fit(X,y)\n",
    "reg_predict = reg.predict_proba(X_test)"
   ]
  },
  {
   "cell_type": "code",
   "execution_count": 29,
   "metadata": {},
   "outputs": [
    {
     "data": {
      "text/plain": [
       "(-0.01, 1.01)"
      ]
     },
     "execution_count": 29,
     "metadata": {},
     "output_type": "execute_result"
    },
    {
     "data": {
      "image/png": "[encoded data removed]",
      "text/plain": [
       "<matplotlib.figure.Figure at 0xdbda898>"
      ]
     },
     "metadata": {},
     "output_type": "display_data"
    }
   ],
   "source": [
    "# Потроить roc-кривые всех моделей на одном графике\n",
    "# Вывести roc_auc каждой моделе\n",
    "\n",
    "## Your Code Here\n",
    "from sklearn.metrics import roc_auc_score, roc_curve\n",
    "\n",
    "fpr, tpr, thresholds = roc_curve(y_test, tr_predict[:,1])\n",
    "plt.figure(figsize=(20, 10))\n",
    "plt.subplot(221)\n",
    "plt.plot([0, 1], [0, 1])\n",
    "plt.plot(fpr, tpr)\n",
    "plt.ylabel('tpr')\n",
    "plt.xlabel('fpr')\n",
    "plt.title('ROC curve Desc. Tree ' + str(roc_auc_score(y_test, tr_predict[:,1])))\n",
    "plt.xlim((-0.01, 1.01))\n",
    "plt.ylim((-0.01, 1.01))\n",
    "\n",
    "#второй график\n",
    "fpr, tpr, thresholds = roc_curve(y_test, reg_predict[:,1])\n",
    "plt.subplot(223)\n",
    "plt.plot([0, 1], [0, 1])\n",
    "plt.plot(fpr, tpr)\n",
    "plt.ylabel('tpr')\n",
    "plt.xlabel('fpr')\n",
    "plt.title('ROC curve Log Reg ' + str(roc_auc_score(y_test, reg_predict[:,1])))\n",
    "plt.xlim((-0.01, 1.01))\n",
    "plt.ylim((-0.01, 1.01))\n",
    "\n",
    "#третий график\n",
    "fpr, tpr, thresholds = roc_curve(y_test, knn_predict[:,1])\n",
    "plt.subplot(224)\n",
    "plt.plot([0, 1], [0, 1])\n",
    "plt.plot(fpr, tpr)\n",
    "plt.ylabel('tpr')\n",
    "plt.xlabel('fpr')\n",
    "plt.title('ROC curve KNN ' + str(roc_auc_score(y_test, knn_predict[:,1])))\n",
    "plt.xlim((-0.01, 1.01))\n",
    "plt.ylim((-0.01, 1.01))"
   ]
  },
  {
   "cell_type": "code",
   "execution_count": 30,
   "metadata": {},
   "outputs": [],
   "source": [
    "# Cохраним предсказания по логистической регресии и засабмитим на Kaggle\n",
    "reg_predict_test_data = reg.predict_proba(df_test_preproc)\n",
    "#создали колонку Target c предсказанными значениями\n",
    "my_sub = pd.DataFrame(test['_id'])\n",
    "my_sub['target'] = pd.DataFrame(reg_predict_test_data[:,1], columns = ['target'])\n",
    "my_sub.to_csv('reg.csv',index = False)"
   ]
  },
  {
   "cell_type": "code",
   "execution_count": 58,
   "metadata": {},
   "outputs": [
    {
     "data": {
      "image/png": "[encoded data removed]",
      "text/plain": [
       "<matplotlib.figure.Figure at 0xdd12278>"
      ]
     },
     "metadata": {},
     "output_type": "display_data"
    }
   ],
   "source": [
    "# Настроим регрессию\n",
    "\n",
    "reg = LogisticRegression(random_state=42, C = 11742)\n",
    "reg.fit(X,y)\n",
    "reg_pred = reg.predict_proba(X_test)\n",
    "fpr, tpr, thresholds = roc_curve(y_test, reg_pred[:,1])\n",
    "plt.plot([0, 1], [0, 1])\n",
    "plt.plot(fpr, tpr)\n",
    "plt.ylabel('tpr')\n",
    "plt.xlabel('fpr')\n",
    "plt.title('ROC curve Log Reg ' + str(roc_auc_score(y_test, reg_pred[:,1])))\n",
    "plt.xlim((-0.01, 1.01))\n",
    "plt.ylim((-0.01, 1.01))\n",
    "\n",
    "# Cохраним предсказания по решающему дереву и засабмитим на Kaggle\n",
    "reg_predict_test_data = reg.predict_proba(df_test_preproc)\n",
    "#создали колонку Target c предсказанными значениями\n",
    "my_sub = pd.DataFrame(test['_id'])\n",
    "my_sub['target'] = pd.DataFrame(reg_predict_test_data[:,1], columns = ['target'])\n",
    "my_sub.to_csv('reg_c11742.csv',index = False)"
   ]
  },
  {
   "cell_type": "code",
   "execution_count": 75,
   "metadata": {},
   "outputs": [],
   "source": [
    "k = []\n",
    "for c in range(1000, 2000):\n",
    "    reg = LogisticRegression(random_state=42, C = c)\n",
    "    reg.fit(X,y)\n",
    "    reg_pred = reg.predict_proba(X_test) \n",
    "    k.append([c, roc_auc_score(y_test, reg_pred[:,1])])"
   ]
  },
  {
   "cell_type": "code",
   "execution_count": 76,
   "metadata": {},
   "outputs": [
    {
     "data": {
      "text/plain": [
       "0.9341583755359155"
      ]
     },
     "execution_count": 76,
     "metadata": {},
     "output_type": "execute_result"
    }
   ],
   "source": [
    "pd.DataFrame(k).iloc[:,1].max()"
   ]
  },
  {
   "cell_type": "code",
   "execution_count": null,
   "metadata": {},
   "outputs": [],
   "source": []
  }
 ],
 "metadata": {
  "kernelspec": {
   "display_name": "Python 3",
   "language": "python",
   "name": "python3"
  },
  "language_info": {
   "codemirror_mode": {
    "name": "ipython",
    "version": 3
   },
   "file_extension": ".py",
   "mimetype": "text/x-python",
   "name": "python",
   "nbconvert_exporter": "python",
   "pygments_lexer": "ipython3",
   "version": "3.6.4"
  }
 },
 "nbformat": 4,
 "nbformat_minor": 2
}
